{
  "nbformat": 4,
  "nbformat_minor": 0,
  "metadata": {
    "colab": {
      "provenance": [],
      "authorship_tag": "ABX9TyOl4dCW79WF7M6R47zUR0Yd",
      "include_colab_link": true
    },
    "kernelspec": {
      "name": "python3",
      "display_name": "Python 3"
    },
    "language_info": {
      "name": "python"
    }
  },
  "cells": [
    {
      "cell_type": "markdown",
      "metadata": {
        "id": "view-in-github",
        "colab_type": "text"
      },
      "source": [
        "<a href=\"https://colab.research.google.com/github/Vardhan-R/LLMs-Impersonate-Chat-Users/blob/main/LLM_Google_Chats.ipynb\" target=\"_parent\"><img src=\"https://colab.research.google.com/assets/colab-badge.svg\" alt=\"Open In Colab\"/></a>"
      ]
    },
    {
      "cell_type": "markdown",
      "source": [
        "# AI Impersonates Google Chat Users"
      ],
      "metadata": {
        "id": "AYFOi91BKDat"
      }
    },
    {
      "cell_type": "code",
      "source": [
        "from google.ai.generativelanguage_v1beta.types import content\n",
        "from IPython.display import display\n",
        "from IPython.display import Markdown\n",
        "import base64\n",
        "import codecs\n",
        "import datetime\n",
        "import google.generativeai as genai\n",
        "import json\n",
        "import os\n",
        "import re"
      ],
      "metadata": {
        "id": "ElX_Bw2OQD_G"
      },
      "execution_count": null,
      "outputs": []
    },
    {
      "cell_type": "code",
      "source": [
        "# Parse the arguments\n",
        "\n",
        "model = \"gemini-1.5-flash\"  # @param {isTemplate: true}\n",
        "contents_b64 = b'W3sicGFydHMiOiBbeyJ0ZXh0IjogIkhlbGxvIn1dfV0='\n",
        "generation_config_b64 = \"e30=\"  # @param {isTemplate: true}\n",
        "safety_settings_b64 = \"e30=\"  # @param {isTemplate: true}\n",
        "\n",
        "contents = json.loads(base64.b64decode(contents_b64))\n",
        "\n",
        "generation_config = json.loads(base64.b64decode(generation_config_b64))\n",
        "safety_settings = json.loads(base64.b64decode(safety_settings_b64))\n",
        "\n",
        "stream = False\n",
        "\n",
        "# print(json.dumps(contents, indent=4))"
      ],
      "metadata": {
        "collapsed": true,
        "cellView": "form",
        "id": "KYZVwntXQAx9"
      },
      "execution_count": null,
      "outputs": []
    },
    {
      "cell_type": "code",
      "source": [
        "os.environ[\"GEMINI_API_KEY\"] = \"GEMINI_API_KEY\""
      ],
      "metadata": {
        "id": "ZgMCFjhEQiLX"
      },
      "execution_count": null,
      "outputs": []
    },
    {
      "cell_type": "code",
      "source": [
        "class Message:\n",
        "    def __init__(self, text: str, sender: str, dt: datetime.datetime) -> None:\n",
        "        self.text = text\n",
        "        self.sender = sender\n",
        "        self.datetime = dt  # UTC\n",
        "        self.uts = dt.timestamp()\n",
        "\n",
        "def getGeminiHistory(messages: list[Message]) -> list[dict[str, str]]:\n",
        "    \"\"\"\n",
        "    Convert messages to Gemini history format.\n",
        "\n",
        "    Parameters:\n",
        "        messages (list[Message]): List of Message objects.\n",
        "\n",
        "    Returns:\n",
        "        list[dict]: List of messages in Gemini history format.\n",
        "    \"\"\"\n",
        "\n",
        "    gemini_history = []\n",
        "\n",
        "    for msg in messages:\n",
        "        role = \"user\" if msg.sender == \"Vardhan R\" else \"model\"\n",
        "        gemini_history.append({\n",
        "            \"role\": role,\n",
        "            \"parts\": [\n",
        "                {\"text\": msg.text}\n",
        "            ]\n",
        "        })\n",
        "\n",
        "    return gemini_history\n",
        "\n",
        "def getMessages(other_person: str) -> list[Message]:\n",
        "    datetime_pattern = r\"([A-Za-z]+), (\\d{1,2}) ([A-Za-z]+) (\\d{4}) at (\\d{2}):(\\d{2}):(\\d{2}) (UTC)\"\n",
        "    all_msgs = []\n",
        "\n",
        "    path_to_file = f\"./chats/{other_person}_messages.json\"\n",
        "\n",
        "    with codecs.open(path_to_file, 'r', \"utf-8\") as fp:\n",
        "        msgs_str = \"\".join([line for line in fp])\n",
        "\n",
        "    d: dict = json.loads(msgs_str)\n",
        "    msgs: list = d.get(\"messages\")\n",
        "    for i, msg in enumerate(msgs):\n",
        "        text = msg.get(\"text\")\n",
        "        if text:\n",
        "            sender = msg.get(\"creator\").get(\"name\")\n",
        "            created_date = msg.get(\"created_date\")\n",
        "            m = re.match(datetime_pattern, created_date)\n",
        "            # Extract date and time components\n",
        "            dd = int(m.group(2))    # Day of the month (DD)\n",
        "            month_str = m.group(3)  # Month name\n",
        "            yyyy = int(m.group(4))  # Year (YYYY)\n",
        "            hh = int(m.group(5))    # Hour (HH)\n",
        "            mi = int(m.group(6))    # Minute (MM)\n",
        "            ss = int(m.group(7))    # Second (SS)\n",
        "\n",
        "            # Convert the month name to a number\n",
        "            mo = datetime.datetime.strptime(month_str, \"%B\").month\n",
        "\n",
        "            # Create a datetime object\n",
        "            dt = datetime.datetime(yyyy, mo, dd, hh, mi, ss)    # UTC\n",
        "\n",
        "            all_msgs.append(Message(text.replace('\\xa0', ''), sender, dt))\n",
        "\n",
        "    return all_msgs"
      ],
      "metadata": {
        "id": "hKWYb2ddZVkA"
      },
      "execution_count": null,
      "outputs": []
    },
    {
      "cell_type": "code",
      "source": [
        "genai.configure(api_key=os.environ[\"GEMINI_API_KEY\"])\n",
        "\n",
        "# Create the model\n",
        "generation_config = {\n",
        "    \"temperature\": 1,\n",
        "    \"top_p\": 0.95,\n",
        "    \"top_k\": 40,\n",
        "    \"max_output_tokens\": 8192,\n",
        "    \"response_mime_type\": \"text/plain\",\n",
        "}\n",
        "\n",
        "model = genai.GenerativeModel(\n",
        "    model_name=\"gemini-2.0-flash-exp\",\n",
        "    generation_config=generation_config,\n",
        "    safety_settings=safety_settings\n",
        ")"
      ],
      "metadata": {
        "id": "0PzxiPI-Q2Vx"
      },
      "execution_count": null,
      "outputs": []
    },
    {
      "cell_type": "code",
      "source": [
        "other_person = \"NAME\"\n",
        "context = getGeminiHistory(getMessages(other_person))\n",
        "print(len(context))"
      ],
      "metadata": {
        "id": "bH1gxh2zar_G"
      },
      "execution_count": null,
      "outputs": []
    },
    {
      "cell_type": "code",
      "source": [
        "chat_session = model.start_chat(\n",
        "    history=context[520:520 + 156]\n",
        ")"
      ],
      "metadata": {
        "id": "gbwyQLNCatJZ"
      },
      "execution_count": null,
      "outputs": []
    },
    {
      "cell_type": "code",
      "source": [
        "while msg := input(\"You: \"):\n",
        "    response = chat_session.send_message(msg)\n",
        "    print(f\"{other_person}: \", end=\"\")\n",
        "    display(Markdown(response.text))"
      ],
      "metadata": {
        "id": "0SrLcBfGgmTt"
      },
      "execution_count": null,
      "outputs": []
    }
  ]
}